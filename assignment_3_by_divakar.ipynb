{
  "nbformat": 4,
  "nbformat_minor": 0,
  "metadata": {
    "colab": {
      "name": "assignment 3 by divakar.ipynb",
      "provenance": [],
      "authorship_tag": "ABX9TyM//bV2W4H4VaQ2/tEj2Uyp",
      "include_colab_link": true
    },
    "kernelspec": {
      "name": "python3",
      "display_name": "Python 3"
    },
    "language_info": {
      "name": "python"
    }
  },
  "cells": [
    {
      "cell_type": "markdown",
      "metadata": {
        "id": "view-in-github",
        "colab_type": "text"
      },
      "source": [
        "<a href=\"https://colab.research.google.com/github/DIVAKARYANDRA/day-3-assignment/blob/main/assignment_3_by_divakar.ipynb\" target=\"_parent\"><img src=\"https://colab.research.google.com/assets/colab-badge.svg\" alt=\"Open In Colab\"/></a>"
      ]
    },
    {
      "cell_type": "code",
      "source": [
        ""
      ],
      "metadata": {
        "id": "8oHXgtEJYRme"
      },
      "execution_count": null,
      "outputs": []
    },
    {
      "cell_type": "code",
      "execution_count": 6,
      "metadata": {
        "colab": {
          "base_uri": "https://localhost:8080/"
        },
        "id": "N3O4TwnGYDHr",
        "outputId": "e4d467d0-fefa-462c-fd24-471aa55cc3ab"
      },
      "outputs": [
        {
          "output_type": "stream",
          "name": "stdout",
          "text": [
            "Andhra\n"
          ]
        }
      ],
      "source": [
        "state = {'Andhra':100, 'Telangana':10, 'Bihar' : 18, 'Rajasthan' :54}\n",
        " \n",
        "Keymax = max(state, key= lambda x: state[x])\n",
        "print(Keymax)"
      ]
    }
  ]
}